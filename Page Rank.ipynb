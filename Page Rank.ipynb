{
 "cells": [
  {
   "cell_type": "markdown",
   "id": "1ece5081",
   "metadata": {},
   "source": [
    "#### Importing Required Libraries"
   ]
  },
  {
   "cell_type": "code",
   "execution_count": 24,
   "id": "c4e882cb",
   "metadata": {},
   "outputs": [],
   "source": [
    "import numpy as np\n",
    "from scipy import sparse\n",
    "import plotly.graph_objects as go\n",
    "import plotly.offline as po\n",
    "from plotly.offline import iplot\n",
    "import time as t"
   ]
  },
  {
   "cell_type": "markdown",
   "id": "5a3f42eb",
   "metadata": {},
   "source": [
    "#### Generating Graph data"
   ]
  },
  {
   "cell_type": "code",
   "execution_count": 25,
   "id": "68919e0a",
   "metadata": {},
   "outputs": [],
   "source": [
    "s = set() # Set used to hold the nodes in the dataset, its length is the number of nodes in the dataset.\n",
    "def getGraphData(file):\n",
    "    '''This function returns a dictionary of edges between the graph nodes read from the file i.e. the adjacency \n",
    "    list of the graph data.'''\n",
    "    graphEdges = dict() # Dictionary to store graph edges\n",
    "    with open(file) as f: # open the file containing the graph data.\n",
    "        # Read all lines from the file, a line contains tab seperated source node and dest node.\n",
    "        lines = f.readline()\n",
    "        while lines:\n",
    "            line = [int(node) for node in lines.strip().split('\\t')] # get a single line from lines\n",
    "            # line[0] is the source node, line[1] is the destination node.\n",
    "            # Storing the edge between line[0] and line[1] in graphEdges dictionary.\n",
    "            # Adding the unique nodes in set s.\n",
    "            if graphEdges.get(line[0]):\n",
    "                s.add(line[1])\n",
    "                graphEdges[line[0]].append(line[1])\n",
    "            else:\n",
    "                graphEdges[line[0]] = [line[1]]\n",
    "                s.add(line[0])\n",
    "                s.add(line[1])\n",
    "            lines = f.readline()\n",
    "    # len(s) is number of nodes in the data\n",
    "    return graphEdges, len(s)"
   ]
  },
  {
   "cell_type": "code",
   "execution_count": 26,
   "id": "6769735b",
   "metadata": {},
   "outputs": [],
   "source": [
    "# Calling getGraphData() to get the adjacency list of the dataset.\n",
    "graphEdges, numberOfNodes = getGraphData('/Users/vedantgupta/Desktop/Project/web-Google.txt')"
   ]
  },
  {
   "cell_type": "code",
   "execution_count": 27,
   "id": "41937505",
   "metadata": {},
   "outputs": [
    {
     "name": "stdout",
     "output_type": "stream",
     "text": [
      "Number of nodes in our dataset 875713\n"
     ]
    }
   ],
   "source": [
    "print(\"Number of nodes in our dataset\", numberOfNodes)"
   ]
  },
  {
   "cell_type": "code",
   "execution_count": 28,
   "id": "a7ada169",
   "metadata": {},
   "outputs": [],
   "source": [
    "# Highest index node in our dataset\n",
    "highest_index = sorted(graphEdges.keys(), reverse=True)[:1][0]+1"
   ]
  },
  {
   "cell_type": "code",
   "execution_count": 29,
   "id": "1b034301",
   "metadata": {},
   "outputs": [
    {
     "name": "stdout",
     "output_type": "stream",
     "text": [
      "Highest index node in our dataset 916428\n"
     ]
    }
   ],
   "source": [
    "print(\"Highest index node in our dataset\",highest_index) # We will pass this as the size of the matrix"
   ]
  },
  {
   "cell_type": "markdown",
   "id": "9c8b80ad",
   "metadata": {},
   "source": [
    "#### Unweighted Page Rank Algorithms"
   ]
  },
  {
   "cell_type": "code",
   "execution_count": 30,
   "id": "d056b6f9",
   "metadata": {},
   "outputs": [],
   "source": [
    "def createSparseMatrixFromGraph(graph, size):\n",
    "    '''This function creates a sparse matrix from the adjacency list.'''\n",
    "    row = [] # the row index of the matrix\n",
    "    col = [] # the col index of the matrix\n",
    "    data = [] # The value to be stored at the row index and col index\n",
    "    for node in graph.keys(): # iterate over all the nodes \n",
    "        nodeVal = graph.get(node) # the list of nodes to which the edge goes to from nodeKey\n",
    "        # We assign equal node values to all the nodes which is 1/number of nodes the edges goes to\n",
    "        Count = len(nodeVal)\n",
    "        eachNodeVal = 1 / Count\n",
    "        # for handling duplicates, for duplicates we assign more weights\n",
    "        countDict = dict()\n",
    "        for val in nodeVal:\n",
    "            if countDict.get(val):\n",
    "                countDict[val] = countDict.get(val) + 1\n",
    "            else:\n",
    "                countDict[val] = 1\n",
    "        for node_value in list(set(nodeVal)):\n",
    "            count = countDict.get(node_value) # get the count of the node from val dict\n",
    "            row.append(node_value) # append key to the row matrix\n",
    "            col.append(node) # append the node to which the connection goes to in the column matrix\n",
    "            # multiply with count the decided weight to get the final value.\n",
    "            data.append(count * float(eachNodeVal))\n",
    "    # using sparse from scipy to generate the matrix\n",
    "    matrix = sparse.csr_matrix((data, (row, col)), shape=(size, size))\n",
    "    return matrix"
   ]
  },
  {
   "cell_type": "code",
   "execution_count": 31,
   "id": "eb78871e",
   "metadata": {},
   "outputs": [],
   "source": [
    "# Getting the sparse matrix of our data\n",
    "sparseMatrix = createSparseMatrixFromGraph(graphEdges, highest_index)"
   ]
  },
  {
   "cell_type": "code",
   "execution_count": 32,
   "id": "05b26745",
   "metadata": {},
   "outputs": [],
   "source": [
    "# Number of non_zero edges in our matrix\n",
    "numberOfNonZeroEdges = sparse.csr_matrix.count_nonzero(sparseMatrix)"
   ]
  },
  {
   "cell_type": "code",
   "execution_count": 33,
   "id": "4c2caaeb",
   "metadata": {},
   "outputs": [
    {
     "name": "stdout",
     "output_type": "stream",
     "text": [
      "Number of non zero points is  5105039\n"
     ]
    }
   ],
   "source": [
    "print('Number of non zero points is ',numberOfNonZeroEdges)"
   ]
  },
  {
   "cell_type": "code",
   "execution_count": 34,
   "id": "4a18eecd",
   "metadata": {},
   "outputs": [],
   "source": [
    "# Parameters for the various algorithms for page rank\n",
    "beta = 0.8 # damping factor\n",
    "tolerance = 10**-10 # tolerance\n",
    "TOP_K = 7 # Return to the TOP_K related pages\n",
    "dValueForExtraPolation = [8] # d value for extrapolation for accelarating page rank"
   ]
  },
  {
   "cell_type": "code",
   "execution_count": 35,
   "id": "2ea7caa4",
   "metadata": {},
   "outputs": [],
   "source": [
    "def power_iteration(sparse_matrix,beta,tolerance,number_of_nodes):\n",
    "    # Given, 1 is one vector with nx1 entries of value 1\n",
    "    one = np.ones((number_of_nodes,1))\n",
    "    # initialising the r0\n",
    "    r = 1/ float(number_of_nodes) * one\n",
    "    iteration = 0 # number of iterations for the algo to get the output.\n",
    "    while True:\n",
    "        iteration += 1 # increment the count\n",
    "        rnew = ((1-beta)/number_of_nodes) * one + beta * sparse_matrix.dot(r) # new r value for all the nodes\n",
    "        l1Norm = np.linalg.norm(abs(rnew - r), ord=1) # calculate the error, used l1norm\n",
    "        if l1Norm < tolerance: # If error is less than tolerance break\n",
    "            break\n",
    "        r = rnew # return the new r and the number of iterations it required the algo to0 converge.\n",
    "    return r,iteration"
   ]
  },
  {
   "cell_type": "code",
   "execution_count": 36,
   "id": "1847a9fa",
   "metadata": {},
   "outputs": [],
   "source": [
    "def power_extrapolation(transition_matrix, number_of_nodes, dValueForExtraPolation, beta, tolerance):\n",
    "    dValues = dValueForExtraPolation # D values to accelarate page rank\n",
    "    d_0 = dValues[0] # initial d_value\n",
    "    pageRank = {}  # Dictionary to store page rank\n",
    "    residual = {} # dictionary to store errors\n",
    "    for d_val in dValues: # iterate over dvalue array\n",
    "        page_rank_iteration = []\n",
    "        initial_pagerank = 1 / number_of_nodes * np.ones((number_of_nodes, 1)) # calculate initial page rank\n",
    "        iteration = 0 # initial iteration\n",
    "        r_error = {} # dict to store erorr\n",
    "        page_rank_iteration.append(initial_pagerank) \n",
    "        while True: # loop till error becomes less than tolerance\n",
    "            iteration += 1 # increment the count\n",
    "            # calculate the next page rank\n",
    "            next_pagerank = (1 - beta) / number_of_nodes * np.ones((number_of_nodes, 1)) + beta * transition_matrix.dot(initial_pagerank)\n",
    "            if iteration == d_val + 2:\n",
    "                next_pagerank = (next_pagerank - (beta**d_val)*page_rank_iteration[iteration - d_val]) / (1 - beta**d_val)\n",
    "            error = np.linalg.norm(abs(next_pagerank - initial_pagerank), ord=1) # calculate the error\n",
    "            r_error[iteration] = error \n",
    "            if error < tolerance: # if error becomes less than the tolerance break\n",
    "                page_rank_iteration.append(next_pagerank)\n",
    "                break\n",
    "            page_rank_iteration.append(next_pagerank) \n",
    "            initial_pagerank = next_pagerank\n",
    "        pageRank[d_val] = page_rank_iteration\n",
    "        residual[d_val] = r_error\n",
    "    # return the final page rank and the iteration.\n",
    "    return pageRank.get(d_0)[-1], iteration"
   ]
  },
  {
   "cell_type": "code",
   "execution_count": 37,
   "id": "e1d03489",
   "metadata": {},
   "outputs": [],
   "source": [
    "def getTopBottomK(topK,r):\n",
    "    # Top k page ranks with values\n",
    "    topK_page_Id = r.T[0].argsort()[-topK:][::-1]\n",
    "    topK_pages = getValuesTuple(topK_page_Id,r)\n",
    "    print('#################### Top k pages with scores ####################')\n",
    "    for page_rank in enumerate(topK_pages):\n",
    "        (index, (page_rank_Val, nodeId)) = page_rank\n",
    "        print('Page rank ', index+1, 'for page id ',nodeId+1,'with value is - ', page_rank_Val)\n",
    "    print('\\n\\n')\n",
    "    # Bottom K page ranks with values\n",
    "    bottomK_page_Id = r.T[0].argsort()[:topK]\n",
    "    bottomK_pages = getValuesTuple(bottomK_page_Id,r)\n",
    "    print('#################### Bottom k pages with scores ####################')\n",
    "    for pr in enumerate(bottomK_pages):\n",
    "        (index, (page_rank_Val, nodeId)) = pr\n",
    "        print('Page rank ', index+1, 'for page id ',nodeId+1,'with value is - ', page_rank_Val)"
   ]
  },
  {
   "cell_type": "code",
   "execution_count": 38,
   "id": "7d6d88b4",
   "metadata": {},
   "outputs": [],
   "source": [
    "def getValuesTuple(indices, r):\n",
    "    '''Function to get value tuples'''\n",
    "    return [(r[index][0], index+1) for index in indices]"
   ]
  },
  {
   "cell_type": "code",
   "execution_count": 39,
   "id": "67d45b63",
   "metadata": {},
   "outputs": [
    {
     "name": "stdout",
     "output_type": "stream",
     "text": [
      "Normal page rank with power iteration:\n",
      "\n",
      "\n",
      "#################### Top k pages with scores ####################\n",
      "Page rank  1 for page id  163077 with value is -  0.0006286998490852598\n",
      "Page rank  2 for page id  597623 with value is -  0.0006247975197122885\n",
      "Page rank  3 for page id  537041 with value is -  0.0006126822588027786\n",
      "Page rank  4 for page id  41911 with value is -  0.000597238903366512\n",
      "Page rank  5 for page id  384668 with value is -  0.0005158512929324215\n",
      "Page rank  6 for page id  504142 with value is -  0.0005136825190031836\n",
      "Page rank  7 for page id  605858 with value is -  0.0005033165721127062\n",
      "\n",
      "\n",
      "\n",
      "#################### Bottom k pages with scores ####################\n",
      "Page rank  1 for page id  242137 with value is -  2.1823863958761623e-07\n",
      "Page rank  2 for page id  555801 with value is -  2.1823863958761623e-07\n",
      "Page rank  3 for page id  257350 with value is -  2.1823863958761623e-07\n",
      "Page rank  4 for page id  257352 with value is -  2.1823863958761623e-07\n",
      "Page rank  5 for page id  257354 with value is -  2.1823863958761623e-07\n",
      "Page rank  6 for page id  257355 with value is -  2.1823863958761623e-07\n",
      "Page rank  7 for page id  257357 with value is -  2.1823863958761623e-07\n",
      "\n",
      "\n",
      "7.188103914260864\n"
     ]
    }
   ],
   "source": [
    "# Using normal page rank and power iteration\n",
    "st=t.time()\n",
    "r,count = power_iteration(sparseMatrix,beta,tolerance,highest_index)\n",
    "print(\"Normal page rank with power iteration:\")\n",
    "print('\\n')\n",
    "getTopBottomK(TOP_K,r)\n",
    "print('\\n')\n",
    "print(t.time()-st)"
   ]
  },
  {
   "cell_type": "code",
   "execution_count": 40,
   "id": "fa253441",
   "metadata": {},
   "outputs": [
    {
     "name": "stdout",
     "output_type": "stream",
     "text": [
      "Normal page rank with power extrapolation\n",
      "\n",
      "\n",
      "#################### Top k pages with scores ####################\n",
      "Page rank  1 for page id  163077 with value is -  0.0006286998488630672\n",
      "Page rank  2 for page id  597623 with value is -  0.0006247975193672014\n",
      "Page rank  3 for page id  537041 with value is -  0.0006126822584833776\n",
      "Page rank  4 for page id  41911 with value is -  0.0005972389029305972\n",
      "Page rank  5 for page id  384668 with value is -  0.0005158512925573922\n",
      "Page rank  6 for page id  504142 with value is -  0.00051368251869735\n",
      "Page rank  7 for page id  605858 with value is -  0.0005033165719936103\n",
      "\n",
      "\n",
      "\n",
      "#################### Bottom k pages with scores ####################\n",
      "Page rank  1 for page id  242137 with value is -  2.1823863958761623e-07\n",
      "Page rank  2 for page id  555801 with value is -  2.1823863958761623e-07\n",
      "Page rank  3 for page id  257350 with value is -  2.1823863958761623e-07\n",
      "Page rank  4 for page id  257352 with value is -  2.1823863958761623e-07\n",
      "Page rank  5 for page id  257354 with value is -  2.1823863958761623e-07\n",
      "Page rank  6 for page id  257355 with value is -  2.1823863958761623e-07\n",
      "Page rank  7 for page id  257357 with value is -  2.1823863958761623e-07\n",
      "\n",
      "\n",
      "6.314226150512695\n"
     ]
    }
   ],
   "source": [
    "# Using normal page rank and power extrapolation\n",
    "st=t.time()\n",
    "r, count = power_extrapolation(sparseMatrix, highest_index, dValueForExtraPolation, beta, tolerance)\n",
    "print(\"Normal page rank with power extrapolation\")\n",
    "print('\\n')\n",
    "getTopBottomK(TOP_K,r)\n",
    "print('\\n')\n",
    "print(t.time()-st)"
   ]
  },
  {
   "cell_type": "markdown",
   "id": "3729e0aa",
   "metadata": {},
   "source": [
    "#### Weighted"
   ]
  },
  {
   "cell_type": "code",
   "execution_count": 41,
   "id": "be04efec",
   "metadata": {},
   "outputs": [],
   "source": [
    "def createSparseWeightedMatrixFromGraph(graph, size):\n",
    "    row = [] # row index of the matrix\n",
    "    col = [] # column index of the matrix\n",
    "    data = [] # The value to be stored at the row index and col index \n",
    "    for node in graph.keys(): # iterate over all the nodes\n",
    "        nodeVal = graph.get(node) # the list of nodes to which the edge goes to from nodeKey\n",
    "        # We assign equal node values to all the nodes which is 1/number of nodes the edges goes to\n",
    "        Count = len(nodeVal) \n",
    "        eachNodeVal = 1 / Count\n",
    "        # for handling duplicates, for duplicates we assign more weights\n",
    "        countDict = dict()\n",
    "        for val in nodeVal:\n",
    "            if countDict.get(val):\n",
    "                countDict[val] = countDict.get(val) + 1\n",
    "            else:\n",
    "                countDict[val] = 1\n",
    "        for node_value in list(set(nodeVal)):\n",
    "            count = countDict.get(node_value) # get the count of the node from val dict\n",
    "            row.append(node_value) # append key to the row matrix\n",
    "            col.append(node) # append the node to which the connection goes to in the column matrix\n",
    "            data.append(count) # append the count to the data list.\n",
    "    matrix = sparse.csr_matrix((data, (row, col)), shape=(size, size))\n",
    "    \n",
    "    row_sum = matrix.sum(axis=1).T.tolist()[0] # calculate the sum of rows, used in assigning weights\n",
    "    col_sum = matrix.sum(axis=0).tolist()[0] # calculate the sum of columns, used in assigning weights\n",
    "    row = [] # row index of the matrix\n",
    "    col = [] # column index of the matrix\n",
    "    data = [] # The value to be stored at the row index and col index \n",
    "    for node in graph.keys(): # iterate over all the nodes\n",
    "        nodeVal = graph.get(node) # the list of nodes to which the edge goes to from nodeKey\n",
    "        Count = len(nodeVal)\n",
    "        eachNodeVal = 1 / Count\n",
    "        # for handling duplicates, for duplicates we assign more weights\n",
    "        countDict = dict()\n",
    "        for val in nodeVal:\n",
    "            if countDict.get(val):\n",
    "                countDict[val] = countDict.get(val) + 1\n",
    "            else:\n",
    "                countDict[val] = 1\n",
    "        #Incoming weight for children node\n",
    "        sum_In = 0\n",
    "        for node_value in list(set(nodeVal)):\n",
    "            sum_In = sum_In + row_sum[node_value]\n",
    "        #Outgoing weight for children node\n",
    "        sum_Out = 0\n",
    "        for node_value in list(set(nodeVal)):\n",
    "            sum_Out = sum_In + col_sum[node_value]\n",
    "        # Calculating the incoming and outgoing weight, assigning weight as the product of two.\n",
    "        for node_value in list(set(nodeVal)):\n",
    "            node_in = row_sum[node_value]\n",
    "            incoming_weight = float(node_in/sum_In)\n",
    "            \n",
    "            node_out = col_sum[node_value]\n",
    "            outgoing_weight =float(node_out/sum_Out)\n",
    "            row.append(node_value)\n",
    "            col.append(node)\n",
    "            data.append(incoming_weight*outgoing_weight)\n",
    "    # return the matrix\n",
    "    matrix = sparse.csr_matrix((data, (row, col)), shape=(size, size))\n",
    "    return matrix"
   ]
  },
  {
   "cell_type": "code",
   "execution_count": 42,
   "id": "e81a9179",
   "metadata": {},
   "outputs": [],
   "source": [
    "sparseMatrixWeighted = createSparseWeightedMatrixFromGraph(graphEdges, highest_index)"
   ]
  },
  {
   "cell_type": "code",
   "execution_count": 43,
   "id": "f06604ec",
   "metadata": {},
   "outputs": [
    {
     "name": "stdout",
     "output_type": "stream",
     "text": [
      "Weighted page rank with power iteration\n",
      "\n",
      "\n",
      "#################### Top k pages with scores ####################\n",
      "Page rank  1 for page id  285816 with value is -  1.764525840104099e-05\n",
      "Page rank  2 for page id  751386 with value is -  9.970700997967997e-06\n",
      "Page rank  3 for page id  321968 with value is -  8.871338801203879e-06\n",
      "Page rank  4 for page id  868760 with value is -  7.194804372269576e-06\n",
      "Page rank  5 for page id  616401 with value is -  6.867585406157204e-06\n",
      "Page rank  6 for page id  837837 with value is -  5.709059907071018e-06\n",
      "Page rank  7 for page id  163077 with value is -  5.698678681885871e-06\n",
      "\n",
      "\n",
      "\n",
      "#################### Bottom k pages with scores ####################\n",
      "Page rank  1 for page id  308773 with value is -  2.1823863958761623e-07\n",
      "Page rank  2 for page id  298902 with value is -  2.1823863958761623e-07\n",
      "Page rank  3 for page id  298900 with value is -  2.1823863958761623e-07\n",
      "Page rank  4 for page id  298899 with value is -  2.1823863958761623e-07\n",
      "Page rank  5 for page id  298898 with value is -  2.1823863958761623e-07\n",
      "Page rank  6 for page id  298897 with value is -  2.1823863958761623e-07\n",
      "Page rank  7 for page id  298896 with value is -  2.1823863958761623e-07\n",
      "\n",
      "\n",
      "1.4799129962921143\n"
     ]
    }
   ],
   "source": [
    "# Using weighted page rank and power iteration\n",
    "st=t.time()\n",
    "r, count = power_iteration(sparseMatrixWeighted, beta, tolerance, highest_index)\n",
    "print(\"Weighted page rank with power iteration\")\n",
    "print('\\n')\n",
    "getTopBottomK(TOP_K,r)\n",
    "print('\\n')\n",
    "print(t.time()-st)"
   ]
  },
  {
   "cell_type": "code",
   "execution_count": 44,
   "id": "34d00e2d",
   "metadata": {},
   "outputs": [
    {
     "name": "stdout",
     "output_type": "stream",
     "text": [
      "Weighted page rank with power extrapolation\n",
      "\n",
      "\n",
      "#################### Top k pages with scores ####################\n",
      "Page rank  1 for page id  285816 with value is -  1.7645258401040716e-05\n",
      "Page rank  2 for page id  751386 with value is -  9.970700997930113e-06\n",
      "Page rank  3 for page id  321968 with value is -  8.87133880120335e-06\n",
      "Page rank  4 for page id  868760 with value is -  7.194804372269045e-06\n",
      "Page rank  5 for page id  616401 with value is -  6.867585406157204e-06\n",
      "Page rank  6 for page id  837837 with value is -  5.70905990694615e-06\n",
      "Page rank  7 for page id  163077 with value is -  5.698678681878906e-06\n",
      "\n",
      "\n",
      "\n",
      "#################### Bottom k pages with scores ####################\n",
      "Page rank  1 for page id  308773 with value is -  2.1823863958761623e-07\n",
      "Page rank  2 for page id  298902 with value is -  2.1823863958761623e-07\n",
      "Page rank  3 for page id  298900 with value is -  2.1823863958761623e-07\n",
      "Page rank  4 for page id  298899 with value is -  2.1823863958761623e-07\n",
      "Page rank  5 for page id  298898 with value is -  2.1823863958761623e-07\n",
      "Page rank  6 for page id  298897 with value is -  2.1823863958761623e-07\n",
      "Page rank  7 for page id  298896 with value is -  2.1823863958761623e-07\n",
      "\n",
      "\n",
      "2.17094087600708\n"
     ]
    }
   ],
   "source": [
    "# Using weighted page rank and power extrapolation\n",
    "st=t.time()\n",
    "r, count = power_extrapolation(sparseMatrixWeighted,highest_index, dValueForExtraPolation, beta, tolerance)\n",
    "print(\"Weighted page rank with power extrapolation\")\n",
    "print('\\n')\n",
    "getTopBottomK(TOP_K,r)\n",
    "print('\\n')\n",
    "print(t.time()-st)"
   ]
  },
  {
   "cell_type": "markdown",
   "id": "30d2d3b9",
   "metadata": {},
   "source": [
    "#### Analysis"
   ]
  },
  {
   "cell_type": "code",
   "execution_count": 45,
   "id": "129aabb4",
   "metadata": {},
   "outputs": [],
   "source": [
    "beta_arr=np.arange(0,1,0.1) # Range of damping factor\n",
    "tol_arr=[10**-10,10**-9,10**-8,10**-7,10**-6,10**-5,10**-4,10**-3,10**-2,10**-1] # range of tolerance values"
   ]
  },
  {
   "cell_type": "markdown",
   "id": "c9e422c2",
   "metadata": {},
   "source": [
    "#### Generating the graph"
   ]
  },
  {
   "cell_type": "code",
   "execution_count": 46,
   "id": "eb52dbb2",
   "metadata": {},
   "outputs": [
    {
     "data": {
      "application/vnd.plotly.v1+json": {
       "config": {
        "plotlyServerURL": "https://plot.ly"
       },
       "data": [
        {
         "mode": "lines+markers",
         "name": "PageRank-Power_Iteration ",
         "type": "scatter",
         "x": [
          0,
          0.1,
          0.2,
          0.30000000000000004,
          0.4,
          0.5,
          0.6000000000000001,
          0.7000000000000001,
          0.8,
          0.9
         ],
         "y": [
          1,
          9,
          13,
          17,
          22,
          29,
          38,
          54,
          85,
          179
         ]
        },
        {
         "mode": "lines+markers",
         "name": "PageRank-Power_Extrapolation",
         "type": "scatter",
         "x": [
          0,
          0.1,
          0.2,
          0.30000000000000004,
          0.4,
          0.5,
          0.6000000000000001,
          0.7000000000000001,
          0.8,
          0.9
         ],
         "y": [
          1,
          9,
          13,
          17,
          21,
          27,
          35,
          48,
          72,
          140
         ]
        },
        {
         "mode": "lines+markers",
         "name": "Weighted_PageRank-Power_Iteration",
         "type": "scatter",
         "x": [
          0,
          0.1,
          0.2,
          0.30000000000000004,
          0.4,
          0.5,
          0.6000000000000001,
          0.7000000000000001,
          0.8,
          0.9
         ],
         "y": [
          1,
          6,
          8,
          9,
          10,
          11,
          13,
          15,
          16,
          18
         ]
        },
        {
         "mode": "lines+markers",
         "name": "Weighted_PageRank-Power_Extrapolation",
         "type": "scatter",
         "x": [
          0,
          0.1,
          0.2,
          0.30000000000000004,
          0.4,
          0.5,
          0.6000000000000001,
          0.7000000000000001,
          0.8,
          0.9
         ],
         "y": [
          1,
          6,
          8,
          9,
          15,
          16,
          18,
          20,
          23,
          26
         ]
        }
       ],
       "layout": {
        "template": {
         "data": {
          "bar": [
           {
            "error_x": {
             "color": "#2a3f5f"
            },
            "error_y": {
             "color": "#2a3f5f"
            },
            "marker": {
             "line": {
              "color": "#E5ECF6",
              "width": 0.5
             },
             "pattern": {
              "fillmode": "overlay",
              "size": 10,
              "solidity": 0.2
             }
            },
            "type": "bar"
           }
          ],
          "barpolar": [
           {
            "marker": {
             "line": {
              "color": "#E5ECF6",
              "width": 0.5
             },
             "pattern": {
              "fillmode": "overlay",
              "size": 10,
              "solidity": 0.2
             }
            },
            "type": "barpolar"
           }
          ],
          "carpet": [
           {
            "aaxis": {
             "endlinecolor": "#2a3f5f",
             "gridcolor": "white",
             "linecolor": "white",
             "minorgridcolor": "white",
             "startlinecolor": "#2a3f5f"
            },
            "baxis": {
             "endlinecolor": "#2a3f5f",
             "gridcolor": "white",
             "linecolor": "white",
             "minorgridcolor": "white",
             "startlinecolor": "#2a3f5f"
            },
            "type": "carpet"
           }
          ],
          "choropleth": [
           {
            "colorbar": {
             "outlinewidth": 0,
             "ticks": ""
            },
            "type": "choropleth"
           }
          ],
          "contour": [
           {
            "colorbar": {
             "outlinewidth": 0,
             "ticks": ""
            },
            "colorscale": [
             [
              0,
              "#0d0887"
             ],
             [
              0.1111111111111111,
              "#46039f"
             ],
             [
              0.2222222222222222,
              "#7201a8"
             ],
             [
              0.3333333333333333,
              "#9c179e"
             ],
             [
              0.4444444444444444,
              "#bd3786"
             ],
             [
              0.5555555555555556,
              "#d8576b"
             ],
             [
              0.6666666666666666,
              "#ed7953"
             ],
             [
              0.7777777777777778,
              "#fb9f3a"
             ],
             [
              0.8888888888888888,
              "#fdca26"
             ],
             [
              1,
              "#f0f921"
             ]
            ],
            "type": "contour"
           }
          ],
          "contourcarpet": [
           {
            "colorbar": {
             "outlinewidth": 0,
             "ticks": ""
            },
            "type": "contourcarpet"
           }
          ],
          "heatmap": [
           {
            "colorbar": {
             "outlinewidth": 0,
             "ticks": ""
            },
            "colorscale": [
             [
              0,
              "#0d0887"
             ],
             [
              0.1111111111111111,
              "#46039f"
             ],
             [
              0.2222222222222222,
              "#7201a8"
             ],
             [
              0.3333333333333333,
              "#9c179e"
             ],
             [
              0.4444444444444444,
              "#bd3786"
             ],
             [
              0.5555555555555556,
              "#d8576b"
             ],
             [
              0.6666666666666666,
              "#ed7953"
             ],
             [
              0.7777777777777778,
              "#fb9f3a"
             ],
             [
              0.8888888888888888,
              "#fdca26"
             ],
             [
              1,
              "#f0f921"
             ]
            ],
            "type": "heatmap"
           }
          ],
          "heatmapgl": [
           {
            "colorbar": {
             "outlinewidth": 0,
             "ticks": ""
            },
            "colorscale": [
             [
              0,
              "#0d0887"
             ],
             [
              0.1111111111111111,
              "#46039f"
             ],
             [
              0.2222222222222222,
              "#7201a8"
             ],
             [
              0.3333333333333333,
              "#9c179e"
             ],
             [
              0.4444444444444444,
              "#bd3786"
             ],
             [
              0.5555555555555556,
              "#d8576b"
             ],
             [
              0.6666666666666666,
              "#ed7953"
             ],
             [
              0.7777777777777778,
              "#fb9f3a"
             ],
             [
              0.8888888888888888,
              "#fdca26"
             ],
             [
              1,
              "#f0f921"
             ]
            ],
            "type": "heatmapgl"
           }
          ],
          "histogram": [
           {
            "marker": {
             "pattern": {
              "fillmode": "overlay",
              "size": 10,
              "solidity": 0.2
             }
            },
            "type": "histogram"
           }
          ],
          "histogram2d": [
           {
            "colorbar": {
             "outlinewidth": 0,
             "ticks": ""
            },
            "colorscale": [
             [
              0,
              "#0d0887"
             ],
             [
              0.1111111111111111,
              "#46039f"
             ],
             [
              0.2222222222222222,
              "#7201a8"
             ],
             [
              0.3333333333333333,
              "#9c179e"
             ],
             [
              0.4444444444444444,
              "#bd3786"
             ],
             [
              0.5555555555555556,
              "#d8576b"
             ],
             [
              0.6666666666666666,
              "#ed7953"
             ],
             [
              0.7777777777777778,
              "#fb9f3a"
             ],
             [
              0.8888888888888888,
              "#fdca26"
             ],
             [
              1,
              "#f0f921"
             ]
            ],
            "type": "histogram2d"
           }
          ],
          "histogram2dcontour": [
           {
            "colorbar": {
             "outlinewidth": 0,
             "ticks": ""
            },
            "colorscale": [
             [
              0,
              "#0d0887"
             ],
             [
              0.1111111111111111,
              "#46039f"
             ],
             [
              0.2222222222222222,
              "#7201a8"
             ],
             [
              0.3333333333333333,
              "#9c179e"
             ],
             [
              0.4444444444444444,
              "#bd3786"
             ],
             [
              0.5555555555555556,
              "#d8576b"
             ],
             [
              0.6666666666666666,
              "#ed7953"
             ],
             [
              0.7777777777777778,
              "#fb9f3a"
             ],
             [
              0.8888888888888888,
              "#fdca26"
             ],
             [
              1,
              "#f0f921"
             ]
            ],
            "type": "histogram2dcontour"
           }
          ],
          "mesh3d": [
           {
            "colorbar": {
             "outlinewidth": 0,
             "ticks": ""
            },
            "type": "mesh3d"
           }
          ],
          "parcoords": [
           {
            "line": {
             "colorbar": {
              "outlinewidth": 0,
              "ticks": ""
             }
            },
            "type": "parcoords"
           }
          ],
          "pie": [
           {
            "automargin": true,
            "type": "pie"
           }
          ],
          "scatter": [
           {
            "marker": {
             "colorbar": {
              "outlinewidth": 0,
              "ticks": ""
             }
            },
            "type": "scatter"
           }
          ],
          "scatter3d": [
           {
            "line": {
             "colorbar": {
              "outlinewidth": 0,
              "ticks": ""
             }
            },
            "marker": {
             "colorbar": {
              "outlinewidth": 0,
              "ticks": ""
             }
            },
            "type": "scatter3d"
           }
          ],
          "scattercarpet": [
           {
            "marker": {
             "colorbar": {
              "outlinewidth": 0,
              "ticks": ""
             }
            },
            "type": "scattercarpet"
           }
          ],
          "scattergeo": [
           {
            "marker": {
             "colorbar": {
              "outlinewidth": 0,
              "ticks": ""
             }
            },
            "type": "scattergeo"
           }
          ],
          "scattergl": [
           {
            "marker": {
             "colorbar": {
              "outlinewidth": 0,
              "ticks": ""
             }
            },
            "type": "scattergl"
           }
          ],
          "scattermapbox": [
           {
            "marker": {
             "colorbar": {
              "outlinewidth": 0,
              "ticks": ""
             }
            },
            "type": "scattermapbox"
           }
          ],
          "scatterpolar": [
           {
            "marker": {
             "colorbar": {
              "outlinewidth": 0,
              "ticks": ""
             }
            },
            "type": "scatterpolar"
           }
          ],
          "scatterpolargl": [
           {
            "marker": {
             "colorbar": {
              "outlinewidth": 0,
              "ticks": ""
             }
            },
            "type": "scatterpolargl"
           }
          ],
          "scatterternary": [
           {
            "marker": {
             "colorbar": {
              "outlinewidth": 0,
              "ticks": ""
             }
            },
            "type": "scatterternary"
           }
          ],
          "surface": [
           {
            "colorbar": {
             "outlinewidth": 0,
             "ticks": ""
            },
            "colorscale": [
             [
              0,
              "#0d0887"
             ],
             [
              0.1111111111111111,
              "#46039f"
             ],
             [
              0.2222222222222222,
              "#7201a8"
             ],
             [
              0.3333333333333333,
              "#9c179e"
             ],
             [
              0.4444444444444444,
              "#bd3786"
             ],
             [
              0.5555555555555556,
              "#d8576b"
             ],
             [
              0.6666666666666666,
              "#ed7953"
             ],
             [
              0.7777777777777778,
              "#fb9f3a"
             ],
             [
              0.8888888888888888,
              "#fdca26"
             ],
             [
              1,
              "#f0f921"
             ]
            ],
            "type": "surface"
           }
          ],
          "table": [
           {
            "cells": {
             "fill": {
              "color": "#EBF0F8"
             },
             "line": {
              "color": "white"
             }
            },
            "header": {
             "fill": {
              "color": "#C8D4E3"
             },
             "line": {
              "color": "white"
             }
            },
            "type": "table"
           }
          ]
         },
         "layout": {
          "annotationdefaults": {
           "arrowcolor": "#2a3f5f",
           "arrowhead": 0,
           "arrowwidth": 1
          },
          "autotypenumbers": "strict",
          "coloraxis": {
           "colorbar": {
            "outlinewidth": 0,
            "ticks": ""
           }
          },
          "colorscale": {
           "diverging": [
            [
             0,
             "#8e0152"
            ],
            [
             0.1,
             "#c51b7d"
            ],
            [
             0.2,
             "#de77ae"
            ],
            [
             0.3,
             "#f1b6da"
            ],
            [
             0.4,
             "#fde0ef"
            ],
            [
             0.5,
             "#f7f7f7"
            ],
            [
             0.6,
             "#e6f5d0"
            ],
            [
             0.7,
             "#b8e186"
            ],
            [
             0.8,
             "#7fbc41"
            ],
            [
             0.9,
             "#4d9221"
            ],
            [
             1,
             "#276419"
            ]
           ],
           "sequential": [
            [
             0,
             "#0d0887"
            ],
            [
             0.1111111111111111,
             "#46039f"
            ],
            [
             0.2222222222222222,
             "#7201a8"
            ],
            [
             0.3333333333333333,
             "#9c179e"
            ],
            [
             0.4444444444444444,
             "#bd3786"
            ],
            [
             0.5555555555555556,
             "#d8576b"
            ],
            [
             0.6666666666666666,
             "#ed7953"
            ],
            [
             0.7777777777777778,
             "#fb9f3a"
            ],
            [
             0.8888888888888888,
             "#fdca26"
            ],
            [
             1,
             "#f0f921"
            ]
           ],
           "sequentialminus": [
            [
             0,
             "#0d0887"
            ],
            [
             0.1111111111111111,
             "#46039f"
            ],
            [
             0.2222222222222222,
             "#7201a8"
            ],
            [
             0.3333333333333333,
             "#9c179e"
            ],
            [
             0.4444444444444444,
             "#bd3786"
            ],
            [
             0.5555555555555556,
             "#d8576b"
            ],
            [
             0.6666666666666666,
             "#ed7953"
            ],
            [
             0.7777777777777778,
             "#fb9f3a"
            ],
            [
             0.8888888888888888,
             "#fdca26"
            ],
            [
             1,
             "#f0f921"
            ]
           ]
          },
          "colorway": [
           "#636efa",
           "#EF553B",
           "#00cc96",
           "#ab63fa",
           "#FFA15A",
           "#19d3f3",
           "#FF6692",
           "#B6E880",
           "#FF97FF",
           "#FECB52"
          ],
          "font": {
           "color": "#2a3f5f"
          },
          "geo": {
           "bgcolor": "white",
           "lakecolor": "white",
           "landcolor": "#E5ECF6",
           "showlakes": true,
           "showland": true,
           "subunitcolor": "white"
          },
          "hoverlabel": {
           "align": "left"
          },
          "hovermode": "closest",
          "mapbox": {
           "style": "light"
          },
          "paper_bgcolor": "white",
          "plot_bgcolor": "#E5ECF6",
          "polar": {
           "angularaxis": {
            "gridcolor": "white",
            "linecolor": "white",
            "ticks": ""
           },
           "bgcolor": "#E5ECF6",
           "radialaxis": {
            "gridcolor": "white",
            "linecolor": "white",
            "ticks": ""
           }
          },
          "scene": {
           "xaxis": {
            "backgroundcolor": "#E5ECF6",
            "gridcolor": "white",
            "gridwidth": 2,
            "linecolor": "white",
            "showbackground": true,
            "ticks": "",
            "zerolinecolor": "white"
           },
           "yaxis": {
            "backgroundcolor": "#E5ECF6",
            "gridcolor": "white",
            "gridwidth": 2,
            "linecolor": "white",
            "showbackground": true,
            "ticks": "",
            "zerolinecolor": "white"
           },
           "zaxis": {
            "backgroundcolor": "#E5ECF6",
            "gridcolor": "white",
            "gridwidth": 2,
            "linecolor": "white",
            "showbackground": true,
            "ticks": "",
            "zerolinecolor": "white"
           }
          },
          "shapedefaults": {
           "line": {
            "color": "#2a3f5f"
           }
          },
          "ternary": {
           "aaxis": {
            "gridcolor": "white",
            "linecolor": "white",
            "ticks": ""
           },
           "baxis": {
            "gridcolor": "white",
            "linecolor": "white",
            "ticks": ""
           },
           "bgcolor": "#E5ECF6",
           "caxis": {
            "gridcolor": "white",
            "linecolor": "white",
            "ticks": ""
           }
          },
          "title": {
           "x": 0.05
          },
          "xaxis": {
           "automargin": true,
           "gridcolor": "white",
           "linecolor": "white",
           "ticks": "",
           "title": {
            "standoff": 15
           },
           "zerolinecolor": "white",
           "zerolinewidth": 2
          },
          "yaxis": {
           "automargin": true,
           "gridcolor": "white",
           "linecolor": "white",
           "ticks": "",
           "title": {
            "standoff": 15
           },
           "zerolinecolor": "white",
           "zerolinewidth": 2
          }
         }
        },
        "title": {
         "text": "No of iterations vs Damping Factors"
        },
        "xaxis": {
         "title": {
          "text": "Damping Factors"
         }
        },
        "yaxis": {
         "title": {
          "text": "No of Iterations"
         }
        }
       }
      },
      "text/html": [
       "<div>                            <div id=\"1c1b14d0-10b3-471a-a622-f791f99dcc4a\" class=\"plotly-graph-div\" style=\"height:525px; width:100%;\"></div>            <script type=\"text/javascript\">                require([\"plotly\"], function(Plotly) {                    window.PLOTLYENV=window.PLOTLYENV || {};                                    if (document.getElementById(\"1c1b14d0-10b3-471a-a622-f791f99dcc4a\")) {                    Plotly.newPlot(                        \"1c1b14d0-10b3-471a-a622-f791f99dcc4a\",                        [{\"mode\":\"lines+markers\",\"name\":\"PageRank-Power_Iteration \",\"x\":[0.0,0.1,0.2,0.30000000000000004,0.4,0.5,0.6000000000000001,0.7000000000000001,0.8,0.9],\"y\":[1.0,9.0,13.0,17.0,22.0,29.0,38.0,54.0,85.0,179.0],\"type\":\"scatter\"},{\"mode\":\"lines+markers\",\"name\":\"PageRank-Power_Extrapolation\",\"x\":[0.0,0.1,0.2,0.30000000000000004,0.4,0.5,0.6000000000000001,0.7000000000000001,0.8,0.9],\"y\":[1.0,9.0,13.0,17.0,21.0,27.0,35.0,48.0,72.0,140.0],\"type\":\"scatter\"},{\"mode\":\"lines+markers\",\"name\":\"Weighted_PageRank-Power_Iteration\",\"x\":[0.0,0.1,0.2,0.30000000000000004,0.4,0.5,0.6000000000000001,0.7000000000000001,0.8,0.9],\"y\":[1.0,6.0,8.0,9.0,10.0,11.0,13.0,15.0,16.0,18.0],\"type\":\"scatter\"},{\"mode\":\"lines+markers\",\"name\":\"Weighted_PageRank-Power_Extrapolation\",\"x\":[0.0,0.1,0.2,0.30000000000000004,0.4,0.5,0.6000000000000001,0.7000000000000001,0.8,0.9],\"y\":[1.0,6.0,8.0,9.0,15.0,16.0,18.0,20.0,23.0,26.0],\"type\":\"scatter\"}],                        {\"template\":{\"data\":{\"bar\":[{\"error_x\":{\"color\":\"#2a3f5f\"},\"error_y\":{\"color\":\"#2a3f5f\"},\"marker\":{\"line\":{\"color\":\"#E5ECF6\",\"width\":0.5},\"pattern\":{\"fillmode\":\"overlay\",\"size\":10,\"solidity\":0.2}},\"type\":\"bar\"}],\"barpolar\":[{\"marker\":{\"line\":{\"color\":\"#E5ECF6\",\"width\":0.5},\"pattern\":{\"fillmode\":\"overlay\",\"size\":10,\"solidity\":0.2}},\"type\":\"barpolar\"}],\"carpet\":[{\"aaxis\":{\"endlinecolor\":\"#2a3f5f\",\"gridcolor\":\"white\",\"linecolor\":\"white\",\"minorgridcolor\":\"white\",\"startlinecolor\":\"#2a3f5f\"},\"baxis\":{\"endlinecolor\":\"#2a3f5f\",\"gridcolor\":\"white\",\"linecolor\":\"white\",\"minorgridcolor\":\"white\",\"startlinecolor\":\"#2a3f5f\"},\"type\":\"carpet\"}],\"choropleth\":[{\"colorbar\":{\"outlinewidth\":0,\"ticks\":\"\"},\"type\":\"choropleth\"}],\"contour\":[{\"colorbar\":{\"outlinewidth\":0,\"ticks\":\"\"},\"colorscale\":[[0.0,\"#0d0887\"],[0.1111111111111111,\"#46039f\"],[0.2222222222222222,\"#7201a8\"],[0.3333333333333333,\"#9c179e\"],[0.4444444444444444,\"#bd3786\"],[0.5555555555555556,\"#d8576b\"],[0.6666666666666666,\"#ed7953\"],[0.7777777777777778,\"#fb9f3a\"],[0.8888888888888888,\"#fdca26\"],[1.0,\"#f0f921\"]],\"type\":\"contour\"}],\"contourcarpet\":[{\"colorbar\":{\"outlinewidth\":0,\"ticks\":\"\"},\"type\":\"contourcarpet\"}],\"heatmap\":[{\"colorbar\":{\"outlinewidth\":0,\"ticks\":\"\"},\"colorscale\":[[0.0,\"#0d0887\"],[0.1111111111111111,\"#46039f\"],[0.2222222222222222,\"#7201a8\"],[0.3333333333333333,\"#9c179e\"],[0.4444444444444444,\"#bd3786\"],[0.5555555555555556,\"#d8576b\"],[0.6666666666666666,\"#ed7953\"],[0.7777777777777778,\"#fb9f3a\"],[0.8888888888888888,\"#fdca26\"],[1.0,\"#f0f921\"]],\"type\":\"heatmap\"}],\"heatmapgl\":[{\"colorbar\":{\"outlinewidth\":0,\"ticks\":\"\"},\"colorscale\":[[0.0,\"#0d0887\"],[0.1111111111111111,\"#46039f\"],[0.2222222222222222,\"#7201a8\"],[0.3333333333333333,\"#9c179e\"],[0.4444444444444444,\"#bd3786\"],[0.5555555555555556,\"#d8576b\"],[0.6666666666666666,\"#ed7953\"],[0.7777777777777778,\"#fb9f3a\"],[0.8888888888888888,\"#fdca26\"],[1.0,\"#f0f921\"]],\"type\":\"heatmapgl\"}],\"histogram\":[{\"marker\":{\"pattern\":{\"fillmode\":\"overlay\",\"size\":10,\"solidity\":0.2}},\"type\":\"histogram\"}],\"histogram2d\":[{\"colorbar\":{\"outlinewidth\":0,\"ticks\":\"\"},\"colorscale\":[[0.0,\"#0d0887\"],[0.1111111111111111,\"#46039f\"],[0.2222222222222222,\"#7201a8\"],[0.3333333333333333,\"#9c179e\"],[0.4444444444444444,\"#bd3786\"],[0.5555555555555556,\"#d8576b\"],[0.6666666666666666,\"#ed7953\"],[0.7777777777777778,\"#fb9f3a\"],[0.8888888888888888,\"#fdca26\"],[1.0,\"#f0f921\"]],\"type\":\"histogram2d\"}],\"histogram2dcontour\":[{\"colorbar\":{\"outlinewidth\":0,\"ticks\":\"\"},\"colorscale\":[[0.0,\"#0d0887\"],[0.1111111111111111,\"#46039f\"],[0.2222222222222222,\"#7201a8\"],[0.3333333333333333,\"#9c179e\"],[0.4444444444444444,\"#bd3786\"],[0.5555555555555556,\"#d8576b\"],[0.6666666666666666,\"#ed7953\"],[0.7777777777777778,\"#fb9f3a\"],[0.8888888888888888,\"#fdca26\"],[1.0,\"#f0f921\"]],\"type\":\"histogram2dcontour\"}],\"mesh3d\":[{\"colorbar\":{\"outlinewidth\":0,\"ticks\":\"\"},\"type\":\"mesh3d\"}],\"parcoords\":[{\"line\":{\"colorbar\":{\"outlinewidth\":0,\"ticks\":\"\"}},\"type\":\"parcoords\"}],\"pie\":[{\"automargin\":true,\"type\":\"pie\"}],\"scatter\":[{\"marker\":{\"colorbar\":{\"outlinewidth\":0,\"ticks\":\"\"}},\"type\":\"scatter\"}],\"scatter3d\":[{\"line\":{\"colorbar\":{\"outlinewidth\":0,\"ticks\":\"\"}},\"marker\":{\"colorbar\":{\"outlinewidth\":0,\"ticks\":\"\"}},\"type\":\"scatter3d\"}],\"scattercarpet\":[{\"marker\":{\"colorbar\":{\"outlinewidth\":0,\"ticks\":\"\"}},\"type\":\"scattercarpet\"}],\"scattergeo\":[{\"marker\":{\"colorbar\":{\"outlinewidth\":0,\"ticks\":\"\"}},\"type\":\"scattergeo\"}],\"scattergl\":[{\"marker\":{\"colorbar\":{\"outlinewidth\":0,\"ticks\":\"\"}},\"type\":\"scattergl\"}],\"scattermapbox\":[{\"marker\":{\"colorbar\":{\"outlinewidth\":0,\"ticks\":\"\"}},\"type\":\"scattermapbox\"}],\"scatterpolar\":[{\"marker\":{\"colorbar\":{\"outlinewidth\":0,\"ticks\":\"\"}},\"type\":\"scatterpolar\"}],\"scatterpolargl\":[{\"marker\":{\"colorbar\":{\"outlinewidth\":0,\"ticks\":\"\"}},\"type\":\"scatterpolargl\"}],\"scatterternary\":[{\"marker\":{\"colorbar\":{\"outlinewidth\":0,\"ticks\":\"\"}},\"type\":\"scatterternary\"}],\"surface\":[{\"colorbar\":{\"outlinewidth\":0,\"ticks\":\"\"},\"colorscale\":[[0.0,\"#0d0887\"],[0.1111111111111111,\"#46039f\"],[0.2222222222222222,\"#7201a8\"],[0.3333333333333333,\"#9c179e\"],[0.4444444444444444,\"#bd3786\"],[0.5555555555555556,\"#d8576b\"],[0.6666666666666666,\"#ed7953\"],[0.7777777777777778,\"#fb9f3a\"],[0.8888888888888888,\"#fdca26\"],[1.0,\"#f0f921\"]],\"type\":\"surface\"}],\"table\":[{\"cells\":{\"fill\":{\"color\":\"#EBF0F8\"},\"line\":{\"color\":\"white\"}},\"header\":{\"fill\":{\"color\":\"#C8D4E3\"},\"line\":{\"color\":\"white\"}},\"type\":\"table\"}]},\"layout\":{\"annotationdefaults\":{\"arrowcolor\":\"#2a3f5f\",\"arrowhead\":0,\"arrowwidth\":1},\"autotypenumbers\":\"strict\",\"coloraxis\":{\"colorbar\":{\"outlinewidth\":0,\"ticks\":\"\"}},\"colorscale\":{\"diverging\":[[0,\"#8e0152\"],[0.1,\"#c51b7d\"],[0.2,\"#de77ae\"],[0.3,\"#f1b6da\"],[0.4,\"#fde0ef\"],[0.5,\"#f7f7f7\"],[0.6,\"#e6f5d0\"],[0.7,\"#b8e186\"],[0.8,\"#7fbc41\"],[0.9,\"#4d9221\"],[1,\"#276419\"]],\"sequential\":[[0.0,\"#0d0887\"],[0.1111111111111111,\"#46039f\"],[0.2222222222222222,\"#7201a8\"],[0.3333333333333333,\"#9c179e\"],[0.4444444444444444,\"#bd3786\"],[0.5555555555555556,\"#d8576b\"],[0.6666666666666666,\"#ed7953\"],[0.7777777777777778,\"#fb9f3a\"],[0.8888888888888888,\"#fdca26\"],[1.0,\"#f0f921\"]],\"sequentialminus\":[[0.0,\"#0d0887\"],[0.1111111111111111,\"#46039f\"],[0.2222222222222222,\"#7201a8\"],[0.3333333333333333,\"#9c179e\"],[0.4444444444444444,\"#bd3786\"],[0.5555555555555556,\"#d8576b\"],[0.6666666666666666,\"#ed7953\"],[0.7777777777777778,\"#fb9f3a\"],[0.8888888888888888,\"#fdca26\"],[1.0,\"#f0f921\"]]},\"colorway\":[\"#636efa\",\"#EF553B\",\"#00cc96\",\"#ab63fa\",\"#FFA15A\",\"#19d3f3\",\"#FF6692\",\"#B6E880\",\"#FF97FF\",\"#FECB52\"],\"font\":{\"color\":\"#2a3f5f\"},\"geo\":{\"bgcolor\":\"white\",\"lakecolor\":\"white\",\"landcolor\":\"#E5ECF6\",\"showlakes\":true,\"showland\":true,\"subunitcolor\":\"white\"},\"hoverlabel\":{\"align\":\"left\"},\"hovermode\":\"closest\",\"mapbox\":{\"style\":\"light\"},\"paper_bgcolor\":\"white\",\"plot_bgcolor\":\"#E5ECF6\",\"polar\":{\"angularaxis\":{\"gridcolor\":\"white\",\"linecolor\":\"white\",\"ticks\":\"\"},\"bgcolor\":\"#E5ECF6\",\"radialaxis\":{\"gridcolor\":\"white\",\"linecolor\":\"white\",\"ticks\":\"\"}},\"scene\":{\"xaxis\":{\"backgroundcolor\":\"#E5ECF6\",\"gridcolor\":\"white\",\"gridwidth\":2,\"linecolor\":\"white\",\"showbackground\":true,\"ticks\":\"\",\"zerolinecolor\":\"white\"},\"yaxis\":{\"backgroundcolor\":\"#E5ECF6\",\"gridcolor\":\"white\",\"gridwidth\":2,\"linecolor\":\"white\",\"showbackground\":true,\"ticks\":\"\",\"zerolinecolor\":\"white\"},\"zaxis\":{\"backgroundcolor\":\"#E5ECF6\",\"gridcolor\":\"white\",\"gridwidth\":2,\"linecolor\":\"white\",\"showbackground\":true,\"ticks\":\"\",\"zerolinecolor\":\"white\"}},\"shapedefaults\":{\"line\":{\"color\":\"#2a3f5f\"}},\"ternary\":{\"aaxis\":{\"gridcolor\":\"white\",\"linecolor\":\"white\",\"ticks\":\"\"},\"baxis\":{\"gridcolor\":\"white\",\"linecolor\":\"white\",\"ticks\":\"\"},\"bgcolor\":\"#E5ECF6\",\"caxis\":{\"gridcolor\":\"white\",\"linecolor\":\"white\",\"ticks\":\"\"}},\"title\":{\"x\":0.05},\"xaxis\":{\"automargin\":true,\"gridcolor\":\"white\",\"linecolor\":\"white\",\"ticks\":\"\",\"title\":{\"standoff\":15},\"zerolinecolor\":\"white\",\"zerolinewidth\":2},\"yaxis\":{\"automargin\":true,\"gridcolor\":\"white\",\"linecolor\":\"white\",\"ticks\":\"\",\"title\":{\"standoff\":15},\"zerolinecolor\":\"white\",\"zerolinewidth\":2}}},\"title\":{\"text\":\"No of iterations vs Damping Factors\"},\"xaxis\":{\"title\":{\"text\":\"Damping Factors\"}},\"yaxis\":{\"title\":{\"text\":\"No of Iterations\"}}},                        {\"responsive\": true}                    ).then(function(){\n",
       "                            \n",
       "var gd = document.getElementById('1c1b14d0-10b3-471a-a622-f791f99dcc4a');\n",
       "var x = new MutationObserver(function (mutations, observer) {{\n",
       "        var display = window.getComputedStyle(gd).display;\n",
       "        if (!display || display === 'none') {{\n",
       "            console.log([gd, 'removed!']);\n",
       "            Plotly.purge(gd);\n",
       "            observer.disconnect();\n",
       "        }}\n",
       "}});\n",
       "\n",
       "// Listen for the removal of the full notebook cells\n",
       "var notebookContainer = gd.closest('#notebook-container');\n",
       "if (notebookContainer) {{\n",
       "    x.observe(notebookContainer, {childList: true});\n",
       "}}\n",
       "\n",
       "// Listen for the clearing of the current output cell\n",
       "var outputEl = gd.closest('.output');\n",
       "if (outputEl) {{\n",
       "    x.observe(outputEl, {childList: true});\n",
       "}}\n",
       "\n",
       "                        })                };                });            </script>        </div>"
      ]
     },
     "metadata": {},
     "output_type": "display_data"
    },
    {
     "data": {
      "application/vnd.plotly.v1+json": {
       "config": {
        "plotlyServerURL": "https://plot.ly"
       },
       "data": [
        {
         "mode": "lines+markers",
         "name": "PageRank-Power_Iteration ",
         "type": "scatter",
         "x": [
          1e-10,
          1e-09,
          1e-08,
          1e-07,
          1e-06,
          1e-05,
          0.0001,
          0.001,
          0.01,
          0.1
         ],
         "y": [
          85,
          75,
          65,
          55,
          45,
          35,
          26,
          17,
          9,
          4
         ]
        },
        {
         "mode": "lines+markers",
         "name": "PageRank-Power_Extrapolation",
         "type": "scatter",
         "x": [
          1e-10,
          1e-09,
          1e-08,
          1e-07,
          1e-06,
          1e-05,
          0.0001,
          0.001,
          0.01,
          0.1
         ],
         "y": [
          72,
          64,
          55,
          46,
          38,
          30,
          23,
          17,
          9,
          4
         ]
        },
        {
         "mode": "lines+markers",
         "name": "Weighted_PageRank-Power_Iteration",
         "type": "scatter",
         "x": [
          1e-10,
          1e-09,
          1e-08,
          1e-07,
          1e-06,
          1e-05,
          0.0001,
          0.001,
          0.01,
          0.1
         ],
         "y": [
          16,
          14,
          12,
          10,
          8,
          7,
          5,
          4,
          3,
          2
         ]
        },
        {
         "mode": "lines+markers",
         "name": "Weighted_PageRank-Power_Extrapolation",
         "type": "scatter",
         "x": [
          1e-10,
          1e-09,
          1e-08,
          1e-07,
          1e-06,
          1e-05,
          0.0001,
          0.001,
          0.01,
          0.1
         ],
         "y": [
          23,
          21,
          19,
          17,
          8,
          7,
          5,
          4,
          3,
          2
         ]
        }
       ],
       "layout": {
        "template": {
         "data": {
          "bar": [
           {
            "error_x": {
             "color": "#2a3f5f"
            },
            "error_y": {
             "color": "#2a3f5f"
            },
            "marker": {
             "line": {
              "color": "#E5ECF6",
              "width": 0.5
             },
             "pattern": {
              "fillmode": "overlay",
              "size": 10,
              "solidity": 0.2
             }
            },
            "type": "bar"
           }
          ],
          "barpolar": [
           {
            "marker": {
             "line": {
              "color": "#E5ECF6",
              "width": 0.5
             },
             "pattern": {
              "fillmode": "overlay",
              "size": 10,
              "solidity": 0.2
             }
            },
            "type": "barpolar"
           }
          ],
          "carpet": [
           {
            "aaxis": {
             "endlinecolor": "#2a3f5f",
             "gridcolor": "white",
             "linecolor": "white",
             "minorgridcolor": "white",
             "startlinecolor": "#2a3f5f"
            },
            "baxis": {
             "endlinecolor": "#2a3f5f",
             "gridcolor": "white",
             "linecolor": "white",
             "minorgridcolor": "white",
             "startlinecolor": "#2a3f5f"
            },
            "type": "carpet"
           }
          ],
          "choropleth": [
           {
            "colorbar": {
             "outlinewidth": 0,
             "ticks": ""
            },
            "type": "choropleth"
           }
          ],
          "contour": [
           {
            "colorbar": {
             "outlinewidth": 0,
             "ticks": ""
            },
            "colorscale": [
             [
              0,
              "#0d0887"
             ],
             [
              0.1111111111111111,
              "#46039f"
             ],
             [
              0.2222222222222222,
              "#7201a8"
             ],
             [
              0.3333333333333333,
              "#9c179e"
             ],
             [
              0.4444444444444444,
              "#bd3786"
             ],
             [
              0.5555555555555556,
              "#d8576b"
             ],
             [
              0.6666666666666666,
              "#ed7953"
             ],
             [
              0.7777777777777778,
              "#fb9f3a"
             ],
             [
              0.8888888888888888,
              "#fdca26"
             ],
             [
              1,
              "#f0f921"
             ]
            ],
            "type": "contour"
           }
          ],
          "contourcarpet": [
           {
            "colorbar": {
             "outlinewidth": 0,
             "ticks": ""
            },
            "type": "contourcarpet"
           }
          ],
          "heatmap": [
           {
            "colorbar": {
             "outlinewidth": 0,
             "ticks": ""
            },
            "colorscale": [
             [
              0,
              "#0d0887"
             ],
             [
              0.1111111111111111,
              "#46039f"
             ],
             [
              0.2222222222222222,
              "#7201a8"
             ],
             [
              0.3333333333333333,
              "#9c179e"
             ],
             [
              0.4444444444444444,
              "#bd3786"
             ],
             [
              0.5555555555555556,
              "#d8576b"
             ],
             [
              0.6666666666666666,
              "#ed7953"
             ],
             [
              0.7777777777777778,
              "#fb9f3a"
             ],
             [
              0.8888888888888888,
              "#fdca26"
             ],
             [
              1,
              "#f0f921"
             ]
            ],
            "type": "heatmap"
           }
          ],
          "heatmapgl": [
           {
            "colorbar": {
             "outlinewidth": 0,
             "ticks": ""
            },
            "colorscale": [
             [
              0,
              "#0d0887"
             ],
             [
              0.1111111111111111,
              "#46039f"
             ],
             [
              0.2222222222222222,
              "#7201a8"
             ],
             [
              0.3333333333333333,
              "#9c179e"
             ],
             [
              0.4444444444444444,
              "#bd3786"
             ],
             [
              0.5555555555555556,
              "#d8576b"
             ],
             [
              0.6666666666666666,
              "#ed7953"
             ],
             [
              0.7777777777777778,
              "#fb9f3a"
             ],
             [
              0.8888888888888888,
              "#fdca26"
             ],
             [
              1,
              "#f0f921"
             ]
            ],
            "type": "heatmapgl"
           }
          ],
          "histogram": [
           {
            "marker": {
             "pattern": {
              "fillmode": "overlay",
              "size": 10,
              "solidity": 0.2
             }
            },
            "type": "histogram"
           }
          ],
          "histogram2d": [
           {
            "colorbar": {
             "outlinewidth": 0,
             "ticks": ""
            },
            "colorscale": [
             [
              0,
              "#0d0887"
             ],
             [
              0.1111111111111111,
              "#46039f"
             ],
             [
              0.2222222222222222,
              "#7201a8"
             ],
             [
              0.3333333333333333,
              "#9c179e"
             ],
             [
              0.4444444444444444,
              "#bd3786"
             ],
             [
              0.5555555555555556,
              "#d8576b"
             ],
             [
              0.6666666666666666,
              "#ed7953"
             ],
             [
              0.7777777777777778,
              "#fb9f3a"
             ],
             [
              0.8888888888888888,
              "#fdca26"
             ],
             [
              1,
              "#f0f921"
             ]
            ],
            "type": "histogram2d"
           }
          ],
          "histogram2dcontour": [
           {
            "colorbar": {
             "outlinewidth": 0,
             "ticks": ""
            },
            "colorscale": [
             [
              0,
              "#0d0887"
             ],
             [
              0.1111111111111111,
              "#46039f"
             ],
             [
              0.2222222222222222,
              "#7201a8"
             ],
             [
              0.3333333333333333,
              "#9c179e"
             ],
             [
              0.4444444444444444,
              "#bd3786"
             ],
             [
              0.5555555555555556,
              "#d8576b"
             ],
             [
              0.6666666666666666,
              "#ed7953"
             ],
             [
              0.7777777777777778,
              "#fb9f3a"
             ],
             [
              0.8888888888888888,
              "#fdca26"
             ],
             [
              1,
              "#f0f921"
             ]
            ],
            "type": "histogram2dcontour"
           }
          ],
          "mesh3d": [
           {
            "colorbar": {
             "outlinewidth": 0,
             "ticks": ""
            },
            "type": "mesh3d"
           }
          ],
          "parcoords": [
           {
            "line": {
             "colorbar": {
              "outlinewidth": 0,
              "ticks": ""
             }
            },
            "type": "parcoords"
           }
          ],
          "pie": [
           {
            "automargin": true,
            "type": "pie"
           }
          ],
          "scatter": [
           {
            "marker": {
             "colorbar": {
              "outlinewidth": 0,
              "ticks": ""
             }
            },
            "type": "scatter"
           }
          ],
          "scatter3d": [
           {
            "line": {
             "colorbar": {
              "outlinewidth": 0,
              "ticks": ""
             }
            },
            "marker": {
             "colorbar": {
              "outlinewidth": 0,
              "ticks": ""
             }
            },
            "type": "scatter3d"
           }
          ],
          "scattercarpet": [
           {
            "marker": {
             "colorbar": {
              "outlinewidth": 0,
              "ticks": ""
             }
            },
            "type": "scattercarpet"
           }
          ],
          "scattergeo": [
           {
            "marker": {
             "colorbar": {
              "outlinewidth": 0,
              "ticks": ""
             }
            },
            "type": "scattergeo"
           }
          ],
          "scattergl": [
           {
            "marker": {
             "colorbar": {
              "outlinewidth": 0,
              "ticks": ""
             }
            },
            "type": "scattergl"
           }
          ],
          "scattermapbox": [
           {
            "marker": {
             "colorbar": {
              "outlinewidth": 0,
              "ticks": ""
             }
            },
            "type": "scattermapbox"
           }
          ],
          "scatterpolar": [
           {
            "marker": {
             "colorbar": {
              "outlinewidth": 0,
              "ticks": ""
             }
            },
            "type": "scatterpolar"
           }
          ],
          "scatterpolargl": [
           {
            "marker": {
             "colorbar": {
              "outlinewidth": 0,
              "ticks": ""
             }
            },
            "type": "scatterpolargl"
           }
          ],
          "scatterternary": [
           {
            "marker": {
             "colorbar": {
              "outlinewidth": 0,
              "ticks": ""
             }
            },
            "type": "scatterternary"
           }
          ],
          "surface": [
           {
            "colorbar": {
             "outlinewidth": 0,
             "ticks": ""
            },
            "colorscale": [
             [
              0,
              "#0d0887"
             ],
             [
              0.1111111111111111,
              "#46039f"
             ],
             [
              0.2222222222222222,
              "#7201a8"
             ],
             [
              0.3333333333333333,
              "#9c179e"
             ],
             [
              0.4444444444444444,
              "#bd3786"
             ],
             [
              0.5555555555555556,
              "#d8576b"
             ],
             [
              0.6666666666666666,
              "#ed7953"
             ],
             [
              0.7777777777777778,
              "#fb9f3a"
             ],
             [
              0.8888888888888888,
              "#fdca26"
             ],
             [
              1,
              "#f0f921"
             ]
            ],
            "type": "surface"
           }
          ],
          "table": [
           {
            "cells": {
             "fill": {
              "color": "#EBF0F8"
             },
             "line": {
              "color": "white"
             }
            },
            "header": {
             "fill": {
              "color": "#C8D4E3"
             },
             "line": {
              "color": "white"
             }
            },
            "type": "table"
           }
          ]
         },
         "layout": {
          "annotationdefaults": {
           "arrowcolor": "#2a3f5f",
           "arrowhead": 0,
           "arrowwidth": 1
          },
          "autotypenumbers": "strict",
          "coloraxis": {
           "colorbar": {
            "outlinewidth": 0,
            "ticks": ""
           }
          },
          "colorscale": {
           "diverging": [
            [
             0,
             "#8e0152"
            ],
            [
             0.1,
             "#c51b7d"
            ],
            [
             0.2,
             "#de77ae"
            ],
            [
             0.3,
             "#f1b6da"
            ],
            [
             0.4,
             "#fde0ef"
            ],
            [
             0.5,
             "#f7f7f7"
            ],
            [
             0.6,
             "#e6f5d0"
            ],
            [
             0.7,
             "#b8e186"
            ],
            [
             0.8,
             "#7fbc41"
            ],
            [
             0.9,
             "#4d9221"
            ],
            [
             1,
             "#276419"
            ]
           ],
           "sequential": [
            [
             0,
             "#0d0887"
            ],
            [
             0.1111111111111111,
             "#46039f"
            ],
            [
             0.2222222222222222,
             "#7201a8"
            ],
            [
             0.3333333333333333,
             "#9c179e"
            ],
            [
             0.4444444444444444,
             "#bd3786"
            ],
            [
             0.5555555555555556,
             "#d8576b"
            ],
            [
             0.6666666666666666,
             "#ed7953"
            ],
            [
             0.7777777777777778,
             "#fb9f3a"
            ],
            [
             0.8888888888888888,
             "#fdca26"
            ],
            [
             1,
             "#f0f921"
            ]
           ],
           "sequentialminus": [
            [
             0,
             "#0d0887"
            ],
            [
             0.1111111111111111,
             "#46039f"
            ],
            [
             0.2222222222222222,
             "#7201a8"
            ],
            [
             0.3333333333333333,
             "#9c179e"
            ],
            [
             0.4444444444444444,
             "#bd3786"
            ],
            [
             0.5555555555555556,
             "#d8576b"
            ],
            [
             0.6666666666666666,
             "#ed7953"
            ],
            [
             0.7777777777777778,
             "#fb9f3a"
            ],
            [
             0.8888888888888888,
             "#fdca26"
            ],
            [
             1,
             "#f0f921"
            ]
           ]
          },
          "colorway": [
           "#636efa",
           "#EF553B",
           "#00cc96",
           "#ab63fa",
           "#FFA15A",
           "#19d3f3",
           "#FF6692",
           "#B6E880",
           "#FF97FF",
           "#FECB52"
          ],
          "font": {
           "color": "#2a3f5f"
          },
          "geo": {
           "bgcolor": "white",
           "lakecolor": "white",
           "landcolor": "#E5ECF6",
           "showlakes": true,
           "showland": true,
           "subunitcolor": "white"
          },
          "hoverlabel": {
           "align": "left"
          },
          "hovermode": "closest",
          "mapbox": {
           "style": "light"
          },
          "paper_bgcolor": "white",
          "plot_bgcolor": "#E5ECF6",
          "polar": {
           "angularaxis": {
            "gridcolor": "white",
            "linecolor": "white",
            "ticks": ""
           },
           "bgcolor": "#E5ECF6",
           "radialaxis": {
            "gridcolor": "white",
            "linecolor": "white",
            "ticks": ""
           }
          },
          "scene": {
           "xaxis": {
            "backgroundcolor": "#E5ECF6",
            "gridcolor": "white",
            "gridwidth": 2,
            "linecolor": "white",
            "showbackground": true,
            "ticks": "",
            "zerolinecolor": "white"
           },
           "yaxis": {
            "backgroundcolor": "#E5ECF6",
            "gridcolor": "white",
            "gridwidth": 2,
            "linecolor": "white",
            "showbackground": true,
            "ticks": "",
            "zerolinecolor": "white"
           },
           "zaxis": {
            "backgroundcolor": "#E5ECF6",
            "gridcolor": "white",
            "gridwidth": 2,
            "linecolor": "white",
            "showbackground": true,
            "ticks": "",
            "zerolinecolor": "white"
           }
          },
          "shapedefaults": {
           "line": {
            "color": "#2a3f5f"
           }
          },
          "ternary": {
           "aaxis": {
            "gridcolor": "white",
            "linecolor": "white",
            "ticks": ""
           },
           "baxis": {
            "gridcolor": "white",
            "linecolor": "white",
            "ticks": ""
           },
           "bgcolor": "#E5ECF6",
           "caxis": {
            "gridcolor": "white",
            "linecolor": "white",
            "ticks": ""
           }
          },
          "title": {
           "x": 0.05
          },
          "xaxis": {
           "automargin": true,
           "gridcolor": "white",
           "linecolor": "white",
           "ticks": "",
           "title": {
            "standoff": 15
           },
           "zerolinecolor": "white",
           "zerolinewidth": 2
          },
          "yaxis": {
           "automargin": true,
           "gridcolor": "white",
           "linecolor": "white",
           "ticks": "",
           "title": {
            "standoff": 15
           },
           "zerolinecolor": "white",
           "zerolinewidth": 2
          }
         }
        },
        "title": {
         "text": "No of iterations vs Tolerance"
        },
        "xaxis": {
         "title": {
          "text": "Tolerance"
         },
         "type": "log"
        },
        "yaxis": {
         "title": {
          "text": "No of Iterations"
         }
        }
       }
      },
      "text/html": [
       "<div>                            <div id=\"c61140cc-ee7f-4fdb-9ad0-4c919cd2452a\" class=\"plotly-graph-div\" style=\"height:525px; width:100%;\"></div>            <script type=\"text/javascript\">                require([\"plotly\"], function(Plotly) {                    window.PLOTLYENV=window.PLOTLYENV || {};                                    if (document.getElementById(\"c61140cc-ee7f-4fdb-9ad0-4c919cd2452a\")) {                    Plotly.newPlot(                        \"c61140cc-ee7f-4fdb-9ad0-4c919cd2452a\",                        [{\"mode\":\"lines+markers\",\"name\":\"PageRank-Power_Iteration \",\"x\":[1e-10,1e-09,1e-08,1e-07,1e-06,1e-05,0.0001,0.001,0.01,0.1],\"y\":[85.0,75.0,65.0,55.0,45.0,35.0,26.0,17.0,9.0,4.0],\"type\":\"scatter\"},{\"mode\":\"lines+markers\",\"name\":\"PageRank-Power_Extrapolation\",\"x\":[1e-10,1e-09,1e-08,1e-07,1e-06,1e-05,0.0001,0.001,0.01,0.1],\"y\":[72.0,64.0,55.0,46.0,38.0,30.0,23.0,17.0,9.0,4.0],\"type\":\"scatter\"},{\"mode\":\"lines+markers\",\"name\":\"Weighted_PageRank-Power_Iteration\",\"x\":[1e-10,1e-09,1e-08,1e-07,1e-06,1e-05,0.0001,0.001,0.01,0.1],\"y\":[16.0,14.0,12.0,10.0,8.0,7.0,5.0,4.0,3.0,2.0],\"type\":\"scatter\"},{\"mode\":\"lines+markers\",\"name\":\"Weighted_PageRank-Power_Extrapolation\",\"x\":[1e-10,1e-09,1e-08,1e-07,1e-06,1e-05,0.0001,0.001,0.01,0.1],\"y\":[23.0,21.0,19.0,17.0,8.0,7.0,5.0,4.0,3.0,2.0],\"type\":\"scatter\"}],                        {\"template\":{\"data\":{\"bar\":[{\"error_x\":{\"color\":\"#2a3f5f\"},\"error_y\":{\"color\":\"#2a3f5f\"},\"marker\":{\"line\":{\"color\":\"#E5ECF6\",\"width\":0.5},\"pattern\":{\"fillmode\":\"overlay\",\"size\":10,\"solidity\":0.2}},\"type\":\"bar\"}],\"barpolar\":[{\"marker\":{\"line\":{\"color\":\"#E5ECF6\",\"width\":0.5},\"pattern\":{\"fillmode\":\"overlay\",\"size\":10,\"solidity\":0.2}},\"type\":\"barpolar\"}],\"carpet\":[{\"aaxis\":{\"endlinecolor\":\"#2a3f5f\",\"gridcolor\":\"white\",\"linecolor\":\"white\",\"minorgridcolor\":\"white\",\"startlinecolor\":\"#2a3f5f\"},\"baxis\":{\"endlinecolor\":\"#2a3f5f\",\"gridcolor\":\"white\",\"linecolor\":\"white\",\"minorgridcolor\":\"white\",\"startlinecolor\":\"#2a3f5f\"},\"type\":\"carpet\"}],\"choropleth\":[{\"colorbar\":{\"outlinewidth\":0,\"ticks\":\"\"},\"type\":\"choropleth\"}],\"contour\":[{\"colorbar\":{\"outlinewidth\":0,\"ticks\":\"\"},\"colorscale\":[[0.0,\"#0d0887\"],[0.1111111111111111,\"#46039f\"],[0.2222222222222222,\"#7201a8\"],[0.3333333333333333,\"#9c179e\"],[0.4444444444444444,\"#bd3786\"],[0.5555555555555556,\"#d8576b\"],[0.6666666666666666,\"#ed7953\"],[0.7777777777777778,\"#fb9f3a\"],[0.8888888888888888,\"#fdca26\"],[1.0,\"#f0f921\"]],\"type\":\"contour\"}],\"contourcarpet\":[{\"colorbar\":{\"outlinewidth\":0,\"ticks\":\"\"},\"type\":\"contourcarpet\"}],\"heatmap\":[{\"colorbar\":{\"outlinewidth\":0,\"ticks\":\"\"},\"colorscale\":[[0.0,\"#0d0887\"],[0.1111111111111111,\"#46039f\"],[0.2222222222222222,\"#7201a8\"],[0.3333333333333333,\"#9c179e\"],[0.4444444444444444,\"#bd3786\"],[0.5555555555555556,\"#d8576b\"],[0.6666666666666666,\"#ed7953\"],[0.7777777777777778,\"#fb9f3a\"],[0.8888888888888888,\"#fdca26\"],[1.0,\"#f0f921\"]],\"type\":\"heatmap\"}],\"heatmapgl\":[{\"colorbar\":{\"outlinewidth\":0,\"ticks\":\"\"},\"colorscale\":[[0.0,\"#0d0887\"],[0.1111111111111111,\"#46039f\"],[0.2222222222222222,\"#7201a8\"],[0.3333333333333333,\"#9c179e\"],[0.4444444444444444,\"#bd3786\"],[0.5555555555555556,\"#d8576b\"],[0.6666666666666666,\"#ed7953\"],[0.7777777777777778,\"#fb9f3a\"],[0.8888888888888888,\"#fdca26\"],[1.0,\"#f0f921\"]],\"type\":\"heatmapgl\"}],\"histogram\":[{\"marker\":{\"pattern\":{\"fillmode\":\"overlay\",\"size\":10,\"solidity\":0.2}},\"type\":\"histogram\"}],\"histogram2d\":[{\"colorbar\":{\"outlinewidth\":0,\"ticks\":\"\"},\"colorscale\":[[0.0,\"#0d0887\"],[0.1111111111111111,\"#46039f\"],[0.2222222222222222,\"#7201a8\"],[0.3333333333333333,\"#9c179e\"],[0.4444444444444444,\"#bd3786\"],[0.5555555555555556,\"#d8576b\"],[0.6666666666666666,\"#ed7953\"],[0.7777777777777778,\"#fb9f3a\"],[0.8888888888888888,\"#fdca26\"],[1.0,\"#f0f921\"]],\"type\":\"histogram2d\"}],\"histogram2dcontour\":[{\"colorbar\":{\"outlinewidth\":0,\"ticks\":\"\"},\"colorscale\":[[0.0,\"#0d0887\"],[0.1111111111111111,\"#46039f\"],[0.2222222222222222,\"#7201a8\"],[0.3333333333333333,\"#9c179e\"],[0.4444444444444444,\"#bd3786\"],[0.5555555555555556,\"#d8576b\"],[0.6666666666666666,\"#ed7953\"],[0.7777777777777778,\"#fb9f3a\"],[0.8888888888888888,\"#fdca26\"],[1.0,\"#f0f921\"]],\"type\":\"histogram2dcontour\"}],\"mesh3d\":[{\"colorbar\":{\"outlinewidth\":0,\"ticks\":\"\"},\"type\":\"mesh3d\"}],\"parcoords\":[{\"line\":{\"colorbar\":{\"outlinewidth\":0,\"ticks\":\"\"}},\"type\":\"parcoords\"}],\"pie\":[{\"automargin\":true,\"type\":\"pie\"}],\"scatter\":[{\"marker\":{\"colorbar\":{\"outlinewidth\":0,\"ticks\":\"\"}},\"type\":\"scatter\"}],\"scatter3d\":[{\"line\":{\"colorbar\":{\"outlinewidth\":0,\"ticks\":\"\"}},\"marker\":{\"colorbar\":{\"outlinewidth\":0,\"ticks\":\"\"}},\"type\":\"scatter3d\"}],\"scattercarpet\":[{\"marker\":{\"colorbar\":{\"outlinewidth\":0,\"ticks\":\"\"}},\"type\":\"scattercarpet\"}],\"scattergeo\":[{\"marker\":{\"colorbar\":{\"outlinewidth\":0,\"ticks\":\"\"}},\"type\":\"scattergeo\"}],\"scattergl\":[{\"marker\":{\"colorbar\":{\"outlinewidth\":0,\"ticks\":\"\"}},\"type\":\"scattergl\"}],\"scattermapbox\":[{\"marker\":{\"colorbar\":{\"outlinewidth\":0,\"ticks\":\"\"}},\"type\":\"scattermapbox\"}],\"scatterpolar\":[{\"marker\":{\"colorbar\":{\"outlinewidth\":0,\"ticks\":\"\"}},\"type\":\"scatterpolar\"}],\"scatterpolargl\":[{\"marker\":{\"colorbar\":{\"outlinewidth\":0,\"ticks\":\"\"}},\"type\":\"scatterpolargl\"}],\"scatterternary\":[{\"marker\":{\"colorbar\":{\"outlinewidth\":0,\"ticks\":\"\"}},\"type\":\"scatterternary\"}],\"surface\":[{\"colorbar\":{\"outlinewidth\":0,\"ticks\":\"\"},\"colorscale\":[[0.0,\"#0d0887\"],[0.1111111111111111,\"#46039f\"],[0.2222222222222222,\"#7201a8\"],[0.3333333333333333,\"#9c179e\"],[0.4444444444444444,\"#bd3786\"],[0.5555555555555556,\"#d8576b\"],[0.6666666666666666,\"#ed7953\"],[0.7777777777777778,\"#fb9f3a\"],[0.8888888888888888,\"#fdca26\"],[1.0,\"#f0f921\"]],\"type\":\"surface\"}],\"table\":[{\"cells\":{\"fill\":{\"color\":\"#EBF0F8\"},\"line\":{\"color\":\"white\"}},\"header\":{\"fill\":{\"color\":\"#C8D4E3\"},\"line\":{\"color\":\"white\"}},\"type\":\"table\"}]},\"layout\":{\"annotationdefaults\":{\"arrowcolor\":\"#2a3f5f\",\"arrowhead\":0,\"arrowwidth\":1},\"autotypenumbers\":\"strict\",\"coloraxis\":{\"colorbar\":{\"outlinewidth\":0,\"ticks\":\"\"}},\"colorscale\":{\"diverging\":[[0,\"#8e0152\"],[0.1,\"#c51b7d\"],[0.2,\"#de77ae\"],[0.3,\"#f1b6da\"],[0.4,\"#fde0ef\"],[0.5,\"#f7f7f7\"],[0.6,\"#e6f5d0\"],[0.7,\"#b8e186\"],[0.8,\"#7fbc41\"],[0.9,\"#4d9221\"],[1,\"#276419\"]],\"sequential\":[[0.0,\"#0d0887\"],[0.1111111111111111,\"#46039f\"],[0.2222222222222222,\"#7201a8\"],[0.3333333333333333,\"#9c179e\"],[0.4444444444444444,\"#bd3786\"],[0.5555555555555556,\"#d8576b\"],[0.6666666666666666,\"#ed7953\"],[0.7777777777777778,\"#fb9f3a\"],[0.8888888888888888,\"#fdca26\"],[1.0,\"#f0f921\"]],\"sequentialminus\":[[0.0,\"#0d0887\"],[0.1111111111111111,\"#46039f\"],[0.2222222222222222,\"#7201a8\"],[0.3333333333333333,\"#9c179e\"],[0.4444444444444444,\"#bd3786\"],[0.5555555555555556,\"#d8576b\"],[0.6666666666666666,\"#ed7953\"],[0.7777777777777778,\"#fb9f3a\"],[0.8888888888888888,\"#fdca26\"],[1.0,\"#f0f921\"]]},\"colorway\":[\"#636efa\",\"#EF553B\",\"#00cc96\",\"#ab63fa\",\"#FFA15A\",\"#19d3f3\",\"#FF6692\",\"#B6E880\",\"#FF97FF\",\"#FECB52\"],\"font\":{\"color\":\"#2a3f5f\"},\"geo\":{\"bgcolor\":\"white\",\"lakecolor\":\"white\",\"landcolor\":\"#E5ECF6\",\"showlakes\":true,\"showland\":true,\"subunitcolor\":\"white\"},\"hoverlabel\":{\"align\":\"left\"},\"hovermode\":\"closest\",\"mapbox\":{\"style\":\"light\"},\"paper_bgcolor\":\"white\",\"plot_bgcolor\":\"#E5ECF6\",\"polar\":{\"angularaxis\":{\"gridcolor\":\"white\",\"linecolor\":\"white\",\"ticks\":\"\"},\"bgcolor\":\"#E5ECF6\",\"radialaxis\":{\"gridcolor\":\"white\",\"linecolor\":\"white\",\"ticks\":\"\"}},\"scene\":{\"xaxis\":{\"backgroundcolor\":\"#E5ECF6\",\"gridcolor\":\"white\",\"gridwidth\":2,\"linecolor\":\"white\",\"showbackground\":true,\"ticks\":\"\",\"zerolinecolor\":\"white\"},\"yaxis\":{\"backgroundcolor\":\"#E5ECF6\",\"gridcolor\":\"white\",\"gridwidth\":2,\"linecolor\":\"white\",\"showbackground\":true,\"ticks\":\"\",\"zerolinecolor\":\"white\"},\"zaxis\":{\"backgroundcolor\":\"#E5ECF6\",\"gridcolor\":\"white\",\"gridwidth\":2,\"linecolor\":\"white\",\"showbackground\":true,\"ticks\":\"\",\"zerolinecolor\":\"white\"}},\"shapedefaults\":{\"line\":{\"color\":\"#2a3f5f\"}},\"ternary\":{\"aaxis\":{\"gridcolor\":\"white\",\"linecolor\":\"white\",\"ticks\":\"\"},\"baxis\":{\"gridcolor\":\"white\",\"linecolor\":\"white\",\"ticks\":\"\"},\"bgcolor\":\"#E5ECF6\",\"caxis\":{\"gridcolor\":\"white\",\"linecolor\":\"white\",\"ticks\":\"\"}},\"title\":{\"x\":0.05},\"xaxis\":{\"automargin\":true,\"gridcolor\":\"white\",\"linecolor\":\"white\",\"ticks\":\"\",\"title\":{\"standoff\":15},\"zerolinecolor\":\"white\",\"zerolinewidth\":2},\"yaxis\":{\"automargin\":true,\"gridcolor\":\"white\",\"linecolor\":\"white\",\"ticks\":\"\",\"title\":{\"standoff\":15},\"zerolinecolor\":\"white\",\"zerolinewidth\":2}}},\"xaxis\":{\"title\":{\"text\":\"Tolerance\"},\"type\":\"log\"},\"title\":{\"text\":\"No of iterations vs Tolerance\"},\"yaxis\":{\"title\":{\"text\":\"No of Iterations\"}}},                        {\"responsive\": true}                    ).then(function(){\n",
       "                            \n",
       "var gd = document.getElementById('c61140cc-ee7f-4fdb-9ad0-4c919cd2452a');\n",
       "var x = new MutationObserver(function (mutations, observer) {{\n",
       "        var display = window.getComputedStyle(gd).display;\n",
       "        if (!display || display === 'none') {{\n",
       "            console.log([gd, 'removed!']);\n",
       "            Plotly.purge(gd);\n",
       "            observer.disconnect();\n",
       "        }}\n",
       "}});\n",
       "\n",
       "// Listen for the removal of the full notebook cells\n",
       "var notebookContainer = gd.closest('#notebook-container');\n",
       "if (notebookContainer) {{\n",
       "    x.observe(notebookContainer, {childList: true});\n",
       "}}\n",
       "\n",
       "// Listen for the clearing of the current output cell\n",
       "var outputEl = gd.closest('.output');\n",
       "if (outputEl) {{\n",
       "    x.observe(outputEl, {childList: true});\n",
       "}}\n",
       "\n",
       "                        })                };                });            </script>        </div>"
      ]
     },
     "metadata": {},
     "output_type": "display_data"
    }
   ],
   "source": [
    "n_iter_1=np.arange(0,1,0.1)\n",
    "n_iter_2=np.arange(0,1,0.1)\n",
    "n_iter_3=np.arange(0,1,0.1)\n",
    "n_iter_4=np.arange(0,1,0.1)\n",
    "\n",
    "n_iter_1_tol=np.arange(0,1,0.1)\n",
    "n_iter_2_tol=np.arange(0,1,0.1)\n",
    "n_iter_3_tol=np.arange(0,1,0.1)\n",
    "n_iter_4_tol=np.arange(0,1,0.1)\n",
    "\n",
    "\n",
    "for i in range(len(beta_arr)):\n",
    "    r,n_iter_1[i] = power_iteration(sparseMatrix,beta_arr[i],tolerance, highest_index)\n",
    "    r,n_iter_2[i] = power_extrapolation(sparseMatrix, highest_index,dValueForExtraPolation,beta_arr[i],tolerance)\n",
    "    r,n_iter_3[i] = power_iteration(sparseMatrixWeighted,beta_arr[i],tolerance, highest_index)\n",
    "    r,n_iter_4[i] = power_extrapolation(sparseMatrixWeighted,highest_index,dValueForExtraPolation,beta_arr[i],tolerance)\n",
    "    \n",
    "\n",
    "for i in range(len(tol_arr)):\n",
    "    r,n_iter_1_tol[i] = power_iteration(sparseMatrix,beta,tol_arr[i], highest_index)\n",
    "    r,n_iter_2_tol[i] = power_extrapolation(sparseMatrix, highest_index,dValueForExtraPolation,beta,tol_arr[i])\n",
    "    r,n_iter_3_tol[i] = power_iteration(sparseMatrixWeighted,beta,tol_arr[i], highest_index)\n",
    "    r,n_iter_4_tol[i] = power_extrapolation(sparseMatrixWeighted,highest_index,dValueForExtraPolation,beta,tol_arr[i])\n",
    "    \n",
    "# Create traces\n",
    "fig = go.Figure()\n",
    "fig.add_trace(go.Scatter(x=beta_arr, y=n_iter_1,\n",
    "                    mode='lines+markers',\n",
    "                    name='PageRank-Power_Iteration '))\n",
    "fig.add_trace(go.Scatter(x=beta_arr, y=n_iter_2,\n",
    "                    mode='lines+markers',\n",
    "                    name='PageRank-Power_Extrapolation'))\n",
    "fig.add_trace(go.Scatter(x=beta_arr, y=n_iter_3,\n",
    "                    mode='lines+markers', name='Weighted_PageRank-Power_Iteration'))\n",
    "\n",
    "fig.add_trace(go.Scatter(x=beta_arr, y=n_iter_4,\n",
    "                    mode='lines+markers', name='Weighted_PageRank-Power_Extrapolation'))\n",
    "\n",
    "fig.update_layout(title='No of iterations vs Damping Factors',\n",
    "                   xaxis_title='Damping Factors',\n",
    "                   yaxis_title='No of Iterations')\n",
    "\n",
    "fig.show()\n",
    "\n",
    "#po.plot(fig, filename = 'Damping_factor.png', auto_open=False)\n",
    "fig2 = go.Figure()\n",
    "fig2.add_trace(go.Scatter(x=tol_arr, y=n_iter_1_tol,\n",
    "                    mode='lines+markers',\n",
    "                    name='PageRank-Power_Iteration '))\n",
    "fig2.add_trace(go.Scatter(x=tol_arr, y=n_iter_2_tol,\n",
    "                    mode='lines+markers',\n",
    "                    name='PageRank-Power_Extrapolation'))\n",
    "fig2.add_trace(go.Scatter(x=tol_arr, y=n_iter_3_tol,\n",
    "                    mode='lines+markers', name='Weighted_PageRank-Power_Iteration'))\n",
    "\n",
    "fig2.add_trace(go.Scatter(x=tol_arr, y=n_iter_4_tol,\n",
    "                    mode='lines+markers', name='Weighted_PageRank-Power_Extrapolation'))\n",
    "\n",
    "fig2.update_layout(title='No of iterations vs Tolerance',\n",
    "                   xaxis_title='Tolerance',xaxis_type=\"log\",\n",
    "                   yaxis_title='No of Iterations')\n",
    "\n",
    "fig2.show()"
   ]
  },
  {
   "cell_type": "code",
   "execution_count": null,
   "id": "049c4aa1",
   "metadata": {},
   "outputs": [],
   "source": [
    "/Users/vedantgupta/Documents/Zoom/2021-12-14 16.44.34 vedant gupta's Zoom Meeting/video1059211311.mp4"
   ]
  }
 ],
 "metadata": {
  "kernelspec": {
   "display_name": "Python 3",
   "language": "python",
   "name": "python3"
  },
  "language_info": {
   "codemirror_mode": {
    "name": "ipython",
    "version": 3
   },
   "file_extension": ".py",
   "mimetype": "text/x-python",
   "name": "python",
   "nbconvert_exporter": "python",
   "pygments_lexer": "ipython3",
   "version": "3.8.8"
  }
 },
 "nbformat": 4,
 "nbformat_minor": 5
}
